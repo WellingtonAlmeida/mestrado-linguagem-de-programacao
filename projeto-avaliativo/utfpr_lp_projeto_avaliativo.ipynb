{
  "cells": [
    {
      "attachments": {},
      "cell_type": "markdown",
      "metadata": {
        "id": "EahUGSDpzt2U"
      },
      "source": [
        "**Universidade Tecnológica Federal do Paraná**\n",
        "\n",
        "**Programa de Pós-Graduação em Informática (PPGI)**\n",
        "\n",
        "**Disciplina:** Linguagens de Programação\n",
        "\n",
        "**Professores:** Dr. Adriano Rivolli (UTFPR-CP) e Dr. Marlon Marcon (UTFPR-DV)\n",
        "\n",
        "**Aluno:** Wellington Guimarães de Almeida\n"
      ]
    },
    {
      "attachments": {},
      "cell_type": "markdown",
      "metadata": {
        "id": "9xYIy9X10u1V"
      },
      "source": [
        "# Projeto Avaliativo\n"
      ]
    },
    {
      "attachments": {},
      "cell_type": "markdown",
      "metadata": {
        "id": "Jy-LIudf09Qd"
      },
      "source": [
        "## Descrição do projeto\n"
      ]
    },
    {
      "attachments": {},
      "cell_type": "markdown",
      "metadata": {
        "id": "iZ-qoATL1FD0"
      },
      "source": [
        "## Pré-requisitos\n",
        "\n",
        "Para a realização deste projeto faz-se necessário a instalação e importação das seguintes bibliotecas:\n",
        "\n",
        "-   [Pandas](https://pandas.pydata.org/) - Biblioteca de análise e manipulação de dados\n",
        "-   [Matplotlib](https://matplotlib.org/) - Biblioteca para criação de visualizações de dados\n",
        "-   [NumPy](https://numpy.org/) - Biblioteca para realização de cálculos numéricos\n",
        "-   [ipywidgets](https://github.com/jupyter-widgets/ipywidgets) - Biblioteca de componentes visuais interativos\n",
        "-   [Geopandas](https://geopandas.org/) - Biblioteca para manipulação de dados geoespaciais\n",
        "-   [Descartes](https://pypi.org/project/descartes/) - Biblioteca para plotagem de objetos geométricos no matplotlib\n"
      ]
    },
    {
      "cell_type": "markdown",
      "metadata": {
        "id": "JX2ntE2z1Jx4"
      },
      "source": [
        "### Instalação das bibliotecas necessárias\n"
      ]
    },
    {
      "cell_type": "code",
      "execution_count": null,
      "metadata": {
        "colab": {
          "base_uri": "https://localhost:8080/"
        },
        "id": "EezRxZGQ0Zl6",
        "outputId": "2ed06f0b-fa75-48a2-d16d-cd8c04d96221"
      },
      "outputs": [],
      "source": [
        "!pip install pandas\n",
        "!pip install matplotlib\n",
        "!pip install numpy\n",
        "!pip install ipywidgets\n",
        "!pip install geopandas\n",
        "!pip install descartes\n"
      ]
    },
    {
      "attachments": {},
      "cell_type": "markdown",
      "metadata": {
        "id": "SQpAD4qZ1SYG"
      },
      "source": [
        "### Importação das bibliotecas necessárias\n",
        "\n",
        "Instaladas as dependências necessárias, as bibliotecas utilizadas devem ser importadas para que possam ser utilizadas no projeto."
      ]
    },
    {
      "cell_type": "code",
      "execution_count": null,
      "metadata": {
        "id": "N8zuuL3L2oPk"
      },
      "outputs": [],
      "source": [
        "import pandas as pd\n",
        "import ipywidgets as widgets\n",
        "import matplotlib.pyplot as plt\n",
        "import geopandas as gpd"
      ]
    },
    {
      "attachments": {},
      "cell_type": "markdown",
      "metadata": {
        "id": "pwFWlDP42ONj"
      },
      "source": [
        "## Definição de parâmetros da análise\n",
        "\n",
        "A análise realizada neste projeto diz respeito ao estudo da distribuição de ERB's (Estações Rádio Base), destinadas à prestação do serviço de telefonia móvel no território brasileiro.\n",
        "\n",
        "Para atender ao requisito proposto de parametrização da análise, o escopo de execução de todo o código subsequente ficara restrito à unidade da federação selecionada a seguir."
      ]
    },
    {
      "cell_type": "code",
      "execution_count": null,
      "metadata": {
        "colab": {
          "base_uri": "https://localhost:8080/",
          "height": 81,
          "referenced_widgets": [
            "7304113a6073434e9bc3435eb8b99383",
            "956a4b6328914025bfdcbe037a2a1f51",
            "6f0a2bb80e4343b293b623fe6489948a",
            "d5da7e2beb614eebb7d72adc124c6f8b",
            "ed177b21c6c841c2b1bc0a2684660c5b",
            "05887a12a9ce422ebf3590172d54689c",
            "83257ba5e9714c4ab1348496268466e0",
            "b69587e1e4c44ebc9c9593fe74d3ff46"
          ]
        },
        "id": "gtP_A5Yu4Ddn",
        "outputId": "93ffc7c5-8b72-4b52-bfe7-89976b3b70d5"
      },
      "outputs": [],
      "source": [
        "uf_list = ['AC', 'AL', 'AM', 'AP', 'BA', 'CE', 'DF', 'ES', 'GO', 'MA', 'MG', 'MS', 'MT',\n",
        "           'PA', 'PB', 'PE', 'PI', 'PR', 'RJ', 'RN', 'RO', 'RR', 'RS', 'SC', 'SE', 'SP', 'TO']\n",
        "\n",
        "# Definição de parâmetros\n",
        "titulo = widgets.Label('Selecione o escopo da análise:')\n",
        "\n",
        "uf_select = widgets.Dropdown(\n",
        "    options=uf_list,\n",
        "    value='PR',\n",
        "    description='Estado: ')\n",
        "\n",
        "widgets.VBox([titulo, uf_select])\n"
      ]
    },
    {
      "attachments": {},
      "cell_type": "markdown",
      "metadata": {
        "id": "VillOG1r1r7m"
      },
      "source": [
        "## Desenvolvimento\n"
      ]
    },
    {
      "attachments": {},
      "cell_type": "markdown",
      "metadata": {
        "id": "PuHBGjV61zA9"
      },
      "source": [
        "### Carga dos dados\n",
        "\n",
        "Os dados são carregados a partir de arquivos `csv` obtidos em consulta ao cadastro de licenciamentos para emissão de radiofrequência, disponibilizado pela Anatel (Agência Nacional de Telecomunicações) em <https://sistemas.anatel.gov.br/se/public/view/b/licenciamento.php>.\n",
        "\n",
        "Foi realizada a pesquisa por estado tendo como parâmetro de filtragem dos registros o código de registro correspondente ao Serviço Móvel Pessoal (`010`).\n",
        "\n",
        "Após a obtenção dos dados, estes foram disponibilizados em <https://github.com/WellingtonAlmeida/erbs>.\n"
      ]
    },
    {
      "cell_type": "code",
      "execution_count": null,
      "metadata": {
        "colab": {
          "base_uri": "https://localhost:8080/"
        },
        "id": "YFhmKOvs6mgX",
        "outputId": "1d44fc9e-6309-4ab3-b23f-1ec2d94d8547"
      },
      "outputs": [],
      "source": [
        "URL_REPOSITORIO = 'https://github.com/WellingtonAlmeida/erbs'\n",
        "uf = uf_select.value.lower()\n",
        "\n",
        "# Função para recuperação dos dados brutos das antenas\n",
        "def carrega_dados(uf):\n",
        "    url_antenas = URL_REPOSITORIO+'/raw/main/dados-anatel/'+uf+'.csv'\n",
        "    df_antenas = pd.read_csv(url_antenas, sep=';')\n",
        "    return df_antenas\n",
        "\n",
        "df_antenas = carrega_dados(uf)"
      ]
    },
    {
      "cell_type": "code",
      "execution_count": null,
      "metadata": {},
      "outputs": [],
      "source": [
        "# Verificação da carga de dados das antenas\n",
        "df_antenas.info()"
      ]
    },
    {
      "attachments": {},
      "cell_type": "markdown",
      "metadata": {
        "id": "Ev503su_2JEQ"
      },
      "source": [
        "### Tratamento dos dados\n",
        "\n",
        "Após recuperados os dados, estes são tratados visando a eliminação de registros inválidos e melhoria da organização do conjunto de dados obtido, simplificando assim o processo de análise posterior.\n"
      ]
    },
    {
      "cell_type": "code",
      "execution_count": null,
      "metadata": {
        "colab": {
          "base_uri": "https://localhost:8080/"
        },
        "id": "FfB8gxvSeUEv",
        "outputId": "0a3c31fe-a708-4dbd-e140-c89ed88222a2"
      },
      "outputs": [],
      "source": [
        "# Tratamento dos dados obtidos\n",
        "def trata_dados(df):\n",
        "    # Seleção das colunas utilizadas na análise\n",
        "    colunas = ['NomeEntidade', 'NumEstacao', 'SiglaUf', 'CodMunicipio', 'Tecnologia',  'AlturaAntena',\n",
        "               'PotenciaTransmissorWatts', 'DataLicenciamento', 'DataPrimeiroLicenciamento', 'Latitude', 'Longitude']\n",
        "    df_antenas = df[colunas]\n",
        "\n",
        "    # Atribuição de novos nomes às colunas\n",
        "    novos_nomes_colunas = ['operadora', 'estacao', 'uf', 'codigo_municipio', 'tecnologia', 'altura_antena',\n",
        "                           'potencia_transmissor', 'data_licenciamento', 'data_primeiro_licenciamento', 'latitude', 'longitude']\n",
        "    df_antenas.columns = novos_nomes_colunas\n",
        "\n",
        "    # Descarte dos registros com dados incompletos\n",
        "    df_antenas = df_antenas.dropna()\n",
        "\n",
        "    # Descarta registros com coordenadas fora do limite nacional\n",
        "    LIMITE_NORTE = 6\n",
        "    LIMITE_SUL = -34\n",
        "    LIMITE_LESTE = -35\n",
        "    LIMITE_OESTE = -73\n",
        "    selecao = df_antenas[df_antenas['latitude'] > LIMITE_NORTE].index\n",
        "    df_antenas.drop(selecao, inplace=True)\n",
        "    selecao = df_antenas[df_antenas['latitude'] < LIMITE_SUL].index\n",
        "    df_antenas.drop(selecao, inplace=True)\n",
        "    selecao = df_antenas[df_antenas['longitude'] > LIMITE_LESTE].index\n",
        "    df_antenas.drop(selecao, inplace=True)\n",
        "    selecao = df_antenas[df_antenas['longitude'] < LIMITE_OESTE].index\n",
        "    df_antenas.drop(selecao, inplace=True)\n",
        "\n",
        "    # Ajuste nos tipos de dados\n",
        "    df_antenas['codigo_municipio'] = df_antenas['codigo_municipio'].astype(int)\n",
        "    df_antenas['data_licenciamento'] = pd.to_datetime(\n",
        "        df_antenas['data_licenciamento'], format='%Y-%m-%d')\n",
        "    df_antenas['data_primeiro_licenciamento'] = pd.to_datetime(\n",
        "        df_antenas['data_primeiro_licenciamento'], format='%Y-%m-%d')\n",
        "        \n",
        "    return df_antenas\n",
        "\n",
        "\n",
        "df_antenas = trata_dados(df_antenas)\n"
      ]
    },
    {
      "cell_type": "code",
      "execution_count": null,
      "metadata": {},
      "outputs": [],
      "source": [
        "# Verificação do tratamento dos dados de antenas\n",
        "df_antenas.info()"
      ]
    },
    {
      "attachments": {},
      "cell_type": "markdown",
      "metadata": {
        "id": "sd-D4aul2aZq"
      },
      "source": [
        "### Análise e Visualização dos dados\n",
        "\n",
        "Feitos os devidos tratamentos, os dados estão prontos para a fase de análise e visualização. Para o presente projeto foram criadas alguns gráficos quantitativos e a distribuição geográfica das ERB's pelo estado selecionado."
      ]
    },
    {
      "attachments": {},
      "cell_type": "markdown",
      "metadata": {
        "id": "c0hJnX_gHyLr"
      },
      "source": [
        "#### Total de antenas por operadora e por tecnologia no Estado"
      ]
    },
    {
      "cell_type": "code",
      "execution_count": null,
      "metadata": {
        "colab": {
          "base_uri": "https://localhost:8080/",
          "height": 600
        },
        "id": "w3xETS55H7EV",
        "outputId": "95137058-b76c-440e-8058-8849fba3d316"
      },
      "outputs": [],
      "source": [
        "def gera_grafico_antenas(uf):\n",
        "    df_tecnologia = df_antenas.groupby(['tecnologia']).agg(\n",
        "        {'estacao': 'count'}).reset_index()\n",
        "    tecnologia = df_tecnologia['tecnologia'].to_list()\n",
        "    numero_antenas_tecnologia = df_tecnologia['estacao'].to_list()\n",
        "\n",
        "    df_operadora = df_antenas.groupby(['operadora']).agg(\n",
        "        {'estacao': 'count'}).reset_index()\n",
        "    operadora = [o.split()[0] for o in df_operadora['operadora'].to_list()]\n",
        "    numero_antenas_operadora = df_operadora['estacao'].to_list()\n",
        "\n",
        "    fig = plt.figure(figsize=(12, 5))\n",
        "    axs = fig.subplots(1, 2)\n",
        "\n",
        "    axs[0].bar(tecnologia, numero_antenas_tecnologia,  color='cornflowerblue')\n",
        "    axs[0].set_title('Número de antenas por Tecnologia ('+uf+')', fontsize=15)\n",
        "    axs[0].set_xlabel('Tecnologia')\n",
        "\n",
        "    axs[1].bar(operadora, numero_antenas_operadora, color='lightcoral')\n",
        "    axs[1].set_title('Número de antenas por Operadora ('+uf+')', fontsize=15)\n",
        "    axs[1].set_xlabel('Operadora')\n",
        "\n",
        "    plt.ylabel('Número de antenas')\n",
        "    plt.xticks(rotation=45)\n",
        "    plt.show()\n",
        "\n",
        "\n",
        "gera_grafico_antenas(uf.upper())\n"
      ]
    },
    {
      "attachments": {},
      "cell_type": "markdown",
      "metadata": {
        "id": "z5gSx-nSJ0GO"
      },
      "source": [
        "#### Número de antenas por tecnologia de cada operadora no Estado\n"
      ]
    },
    {
      "cell_type": "code",
      "execution_count": null,
      "metadata": {
        "colab": {
          "base_uri": "https://localhost:8080/",
          "height": 529
        },
        "id": "34FLwXIyJo0t",
        "outputId": "99fcccf1-9eb9-4105-ad14-e6b007e3bc89"
      },
      "outputs": [],
      "source": [
        "def gera_grafico_antenas_por_tecnologia_agrupado_por_operadora(uf):    \n",
        "    df = df_antenas\n",
        "    df['operadora'] = [o.split()[0] for o in df['operadora']]\n",
        "    df = df_antenas.groupby(['operadora', 'tecnologia']).agg(\n",
        "        {'estacao': 'count'}).reset_index()   \n",
        "    df = df.pivot(index='operadora', columns='tecnologia', values='estacao')\n",
        "    df.fillna(0)\n",
        "\n",
        "    fig = plt.figure(figsize=(15,8))\n",
        "    ax = fig.add_subplot()\n",
        "    df.plot(ax=ax, kind='bar', cmap='Set3', width=0.9)\n",
        "\n",
        "    plt.title('Número de antenas das Operadoras por Tecnologia ('+uf+')', fontsize=20)\n",
        "    plt.xlabel('Operadora/Tecnologia')\n",
        "    plt.ylabel('Número de antenas')\n",
        "    plt.xticks(rotation=45)\n",
        "    plt.legend(title='Tecnologia')\n",
        "    plt.show()\n",
        "\n",
        "\n",
        "gera_grafico_antenas_por_tecnologia_agrupado_por_operadora(uf.upper())\n"
      ]
    },
    {
      "attachments": {},
      "cell_type": "markdown",
      "metadata": {
        "id": "Albe-rXc7vWU"
      },
      "source": [
        "#### Localização das ERB's\n"
      ]
    },
    {
      "cell_type": "code",
      "execution_count": null,
      "metadata": {
        "colab": {
          "base_uri": "https://localhost:8080/",
          "height": 416
        },
        "id": "f8WTGHvTStD7",
        "outputId": "b487e3b1-6720-495b-e3d8-9c61098677b2"
      },
      "outputs": [],
      "source": [
        "def gera_grafico_localizacao_erbs(uf):\n",
        "    url_malha_estadual_ibge = 'https://geoftp.ibge.gov.br/organizacao_do_territorio/malhas_territoriais/malhas_municipais/municipio_2022/UFs/'+uf+'/'+uf+'_UF_2022.zip'        \n",
        "    url_malha_municipal_ibge = 'https://geoftp.ibge.gov.br/organizacao_do_territorio/malhas_territoriais/malhas_municipais/municipio_2022/UFs/'+uf+'/'+uf+'_Municipios_2022.zip'\n",
        "    plt.figure(figsize=(10,10), dpi=300)\n",
        "    limite_estado = gpd.read_file(url_malha_estadual_ibge)\n",
        "    limite_municipios = gpd.read_file(url_malha_municipal_ibge)\n",
        "\n",
        "    ax = limite_municipios.plot(color='oldlace', edgecolor='lightgray', figsize=(15,15))    \n",
        "\n",
        "    plt.title('Localização das ERB\\'s ('+uf+')', fontsize=20)\n",
        "\n",
        "    erbs = df_antenas[['estacao', 'latitude', 'longitude']].drop_duplicates()\n",
        "    gdf = gpd.GeoDataFrame(erbs, geometry=gpd.points_from_xy(\n",
        "        erbs.longitude, erbs.latitude))\n",
        "    filtro = gdf.within(limite_estado.loc[0,'geometry'])\n",
        "    gdf = gdf.loc[filtro]\n",
        "    gdf.plot(ax=ax, color='royalblue')\n",
        "    plt.show()\n",
        "\n",
        "gera_grafico_localizacao_erbs(uf.upper())"
      ]
    },
    {
      "attachments": {},
      "cell_type": "markdown",
      "metadata": {},
      "source": [
        "A partir da análise das visualizações geradas para cada região podemos ter um panorama em relação à tecnologia predominante, a operadora com maior presença no território.\n",
        "\n",
        "Além disso podemos visualizar a distribuição geográfica das ERB's, o que pode indicar áreas de maior concentração populacional e por consequência, indicando regiões com maiores demandas de infraestrutura e mercado consumidor."
      ]
    }
  ],
  "metadata": {
    "colab": {
      "provenance": []
    },
    "kernelspec": {
      "display_name": "Python 3",
      "name": "python3"
    },
    "language_info": {
      "codemirror_mode": {
        "name": "ipython",
        "version": 3
      },
      "file_extension": ".py",
      "mimetype": "text/x-python",
      "name": "python",
      "nbconvert_exporter": "python",
      "pygments_lexer": "ipython3",
      "version": "3.8.10"
    },
    "widgets": {
      "application/vnd.jupyter.widget-state+json": {
        "05887a12a9ce422ebf3590172d54689c": {
          "model_module": "@jupyter-widgets/controls",
          "model_module_version": "1.5.0",
          "model_name": "DescriptionStyleModel",
          "state": {
            "_model_module": "@jupyter-widgets/controls",
            "_model_module_version": "1.5.0",
            "_model_name": "DescriptionStyleModel",
            "_view_count": null,
            "_view_module": "@jupyter-widgets/base",
            "_view_module_version": "1.2.0",
            "_view_name": "StyleView",
            "description_width": ""
          }
        },
        "6f0a2bb80e4343b293b623fe6489948a": {
          "model_module": "@jupyter-widgets/controls",
          "model_module_version": "1.5.0",
          "model_name": "DropdownModel",
          "state": {
            "_dom_classes": [],
            "_model_module": "@jupyter-widgets/controls",
            "_model_module_version": "1.5.0",
            "_model_name": "DropdownModel",
            "_options_labels": [
              "AC",
              "AL",
              "AM",
              "AP",
              "BA",
              "CE",
              "DF",
              "ES",
              "GO",
              "MA",
              "MG",
              "MS",
              "MT",
              "PA",
              "PB",
              "PE",
              "PI",
              "PR",
              "RJ",
              "RN",
              "RO",
              "RR",
              "RS",
              "SC",
              "SE",
              "SP",
              "TO"
            ],
            "_view_count": null,
            "_view_module": "@jupyter-widgets/controls",
            "_view_module_version": "1.5.0",
            "_view_name": "DropdownView",
            "description": "Estado: ",
            "description_tooltip": null,
            "disabled": false,
            "index": 17,
            "layout": "IPY_MODEL_83257ba5e9714c4ab1348496268466e0",
            "style": "IPY_MODEL_b69587e1e4c44ebc9c9593fe74d3ff46"
          }
        },
        "7304113a6073434e9bc3435eb8b99383": {
          "model_module": "@jupyter-widgets/controls",
          "model_module_version": "1.5.0",
          "model_name": "VBoxModel",
          "state": {
            "_dom_classes": [],
            "_model_module": "@jupyter-widgets/controls",
            "_model_module_version": "1.5.0",
            "_model_name": "VBoxModel",
            "_view_count": null,
            "_view_module": "@jupyter-widgets/controls",
            "_view_module_version": "1.5.0",
            "_view_name": "VBoxView",
            "box_style": "",
            "children": [
              "IPY_MODEL_956a4b6328914025bfdcbe037a2a1f51",
              "IPY_MODEL_6f0a2bb80e4343b293b623fe6489948a"
            ],
            "layout": "IPY_MODEL_d5da7e2beb614eebb7d72adc124c6f8b"
          }
        },
        "83257ba5e9714c4ab1348496268466e0": {
          "model_module": "@jupyter-widgets/base",
          "model_module_version": "1.2.0",
          "model_name": "LayoutModel",
          "state": {
            "_model_module": "@jupyter-widgets/base",
            "_model_module_version": "1.2.0",
            "_model_name": "LayoutModel",
            "_view_count": null,
            "_view_module": "@jupyter-widgets/base",
            "_view_module_version": "1.2.0",
            "_view_name": "LayoutView",
            "align_content": null,
            "align_items": null,
            "align_self": null,
            "border": null,
            "bottom": null,
            "display": null,
            "flex": null,
            "flex_flow": null,
            "grid_area": null,
            "grid_auto_columns": null,
            "grid_auto_flow": null,
            "grid_auto_rows": null,
            "grid_column": null,
            "grid_gap": null,
            "grid_row": null,
            "grid_template_areas": null,
            "grid_template_columns": null,
            "grid_template_rows": null,
            "height": null,
            "justify_content": null,
            "justify_items": null,
            "left": null,
            "margin": null,
            "max_height": null,
            "max_width": null,
            "min_height": null,
            "min_width": null,
            "object_fit": null,
            "object_position": null,
            "order": null,
            "overflow": null,
            "overflow_x": null,
            "overflow_y": null,
            "padding": null,
            "right": null,
            "top": null,
            "visibility": null,
            "width": null
          }
        },
        "956a4b6328914025bfdcbe037a2a1f51": {
          "model_module": "@jupyter-widgets/controls",
          "model_module_version": "1.5.0",
          "model_name": "LabelModel",
          "state": {
            "_dom_classes": [],
            "_model_module": "@jupyter-widgets/controls",
            "_model_module_version": "1.5.0",
            "_model_name": "LabelModel",
            "_view_count": null,
            "_view_module": "@jupyter-widgets/controls",
            "_view_module_version": "1.5.0",
            "_view_name": "LabelView",
            "description": "",
            "description_tooltip": null,
            "layout": "IPY_MODEL_ed177b21c6c841c2b1bc0a2684660c5b",
            "placeholder": "​",
            "style": "IPY_MODEL_05887a12a9ce422ebf3590172d54689c",
            "value": "Selecione o escopo da análise:"
          }
        },
        "b69587e1e4c44ebc9c9593fe74d3ff46": {
          "model_module": "@jupyter-widgets/controls",
          "model_module_version": "1.5.0",
          "model_name": "DescriptionStyleModel",
          "state": {
            "_model_module": "@jupyter-widgets/controls",
            "_model_module_version": "1.5.0",
            "_model_name": "DescriptionStyleModel",
            "_view_count": null,
            "_view_module": "@jupyter-widgets/base",
            "_view_module_version": "1.2.0",
            "_view_name": "StyleView",
            "description_width": ""
          }
        },
        "d5da7e2beb614eebb7d72adc124c6f8b": {
          "model_module": "@jupyter-widgets/base",
          "model_module_version": "1.2.0",
          "model_name": "LayoutModel",
          "state": {
            "_model_module": "@jupyter-widgets/base",
            "_model_module_version": "1.2.0",
            "_model_name": "LayoutModel",
            "_view_count": null,
            "_view_module": "@jupyter-widgets/base",
            "_view_module_version": "1.2.0",
            "_view_name": "LayoutView",
            "align_content": null,
            "align_items": null,
            "align_self": null,
            "border": null,
            "bottom": null,
            "display": null,
            "flex": null,
            "flex_flow": null,
            "grid_area": null,
            "grid_auto_columns": null,
            "grid_auto_flow": null,
            "grid_auto_rows": null,
            "grid_column": null,
            "grid_gap": null,
            "grid_row": null,
            "grid_template_areas": null,
            "grid_template_columns": null,
            "grid_template_rows": null,
            "height": null,
            "justify_content": null,
            "justify_items": null,
            "left": null,
            "margin": null,
            "max_height": null,
            "max_width": null,
            "min_height": null,
            "min_width": null,
            "object_fit": null,
            "object_position": null,
            "order": null,
            "overflow": null,
            "overflow_x": null,
            "overflow_y": null,
            "padding": null,
            "right": null,
            "top": null,
            "visibility": null,
            "width": null
          }
        },
        "ed177b21c6c841c2b1bc0a2684660c5b": {
          "model_module": "@jupyter-widgets/base",
          "model_module_version": "1.2.0",
          "model_name": "LayoutModel",
          "state": {
            "_model_module": "@jupyter-widgets/base",
            "_model_module_version": "1.2.0",
            "_model_name": "LayoutModel",
            "_view_count": null,
            "_view_module": "@jupyter-widgets/base",
            "_view_module_version": "1.2.0",
            "_view_name": "LayoutView",
            "align_content": null,
            "align_items": null,
            "align_self": null,
            "border": null,
            "bottom": null,
            "display": null,
            "flex": null,
            "flex_flow": null,
            "grid_area": null,
            "grid_auto_columns": null,
            "grid_auto_flow": null,
            "grid_auto_rows": null,
            "grid_column": null,
            "grid_gap": null,
            "grid_row": null,
            "grid_template_areas": null,
            "grid_template_columns": null,
            "grid_template_rows": null,
            "height": null,
            "justify_content": null,
            "justify_items": null,
            "left": null,
            "margin": null,
            "max_height": null,
            "max_width": null,
            "min_height": null,
            "min_width": null,
            "object_fit": null,
            "object_position": null,
            "order": null,
            "overflow": null,
            "overflow_x": null,
            "overflow_y": null,
            "padding": null,
            "right": null,
            "top": null,
            "visibility": null,
            "width": null
          }
        }
      }
    }
  },
  "nbformat": 4,
  "nbformat_minor": 0
}
